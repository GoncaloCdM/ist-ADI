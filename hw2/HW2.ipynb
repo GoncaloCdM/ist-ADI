{
 "cells": [
  {
   "cell_type": "code",
   "execution_count": 26,
   "metadata": {},
   "outputs": [
    {
     "data": {
      "text/latex": [
       "up = \n",
       "\\begin{bmatrix}\n",
       "0.8 & 0.1 & 0 & 0.1 & 0 & 0 \\\\\n",
       "0.1 & 0.7 & 0.1 & 0 & 0.1 & 0 \\\\\n",
       "0 & 0.1 & 0.8 & 0 & 0 & 0.1 \\\\\n",
       "0.6 & 0 & 0 & 0.3 & 0.1 & 0 \\\\\n",
       "0 & 0.6 & 0 & 0.1 & 0.2 & 0.1 \\\\\n",
       "0 & 0 & 0.6 & 0 & 0.1 & 0.3 \\\\\n",
       "\\end{bmatrix}"
      ],
      "text/plain": [
       "<IPython.core.display.Latex object>"
      ]
     },
     "metadata": {},
     "output_type": "display_data"
    }
   ],
   "source": [
    "%%latex\n",
    "up = \n",
    "\\begin{bmatrix}\n",
    "0.8 & 0.1 & 0 & 0.1 & 0 & 0 \\\\\n",
    "0.1 & 0.7 & 0.1 & 0 & 0.1 & 0 \\\\\n",
    "0 & 0.1 & 0.8 & 0 & 0 & 0.1 \\\\\n",
    "0.6 & 0 & 0 & 0.3 & 0.1 & 0 \\\\\n",
    "0 & 0.6 & 0 & 0.1 & 0.2 & 0.1 \\\\\n",
    "0 & 0 & 0.6 & 0 & 0.1 & 0.3 \\\\\n",
    "\\end{bmatrix}\n"
   ]
  },
  {
   "cell_type": "code",
   "execution_count": 25,
   "metadata": {},
   "outputs": [
    {
     "data": {
      "text/latex": [
       "down = \n",
       "\\begin{bmatrix}\n",
       "0.3 & 0.1 & 0 & 0.6 & 0 & 0 \\\\\n",
       "0.1 & 0.2 & 0.1 & 0 & 0.6 & 0 \\\\\n",
       "0 & 0.1 & 0.3 & 0 & 0 & 0.1 \\\\\n",
       "0.1 & 0 & 0 & 0.8 & 0.1 & 0 \\\\\n",
       "0 & 0.1 & 0 & 0.1 & 0.7 & 0.1 \\\\\n",
       "0 & 0 & 0.1 & 0 & 0.1 & 0.8 \\\\\n",
       "\\end{bmatrix}"
      ],
      "text/plain": [
       "<IPython.core.display.Latex object>"
      ]
     },
     "metadata": {},
     "output_type": "display_data"
    }
   ],
   "source": [
    "%%latex\n",
    "down = \n",
    "\\begin{bmatrix}\n",
    "0.3 & 0.1 & 0 & 0.6 & 0 & 0 \\\\\n",
    "0.1 & 0.2 & 0.1 & 0 & 0.6 & 0 \\\\\n",
    "0 & 0.1 & 0.3 & 0 & 0 & 0.1 \\\\\n",
    "0.1 & 0 & 0 & 0.8 & 0.1 & 0 \\\\\n",
    "0 & 0.1 & 0 & 0.1 & 0.7 & 0.1 \\\\\n",
    "0 & 0 & 0.1 & 0 & 0.1 & 0.8 \\\\\n",
    "\\end{bmatrix}"
   ]
  },
  {
   "cell_type": "code",
   "execution_count": 27,
   "metadata": {},
   "outputs": [
    {
     "data": {
      "text/latex": [
       "left ="
      ],
      "text/plain": [
       "<IPython.core.display.Latex object>"
      ]
     },
     "metadata": {},
     "output_type": "display_data"
    }
   ],
   "source": [
    "%%latex\n",
    "left =\n"
   ]
  },
  {
   "cell_type": "code",
   "execution_count": 28,
   "metadata": {},
   "outputs": [
    {
     "data": {
      "text/latex": [
       "right = "
      ],
      "text/plain": [
       "<IPython.core.display.Latex object>"
      ]
     },
     "metadata": {},
     "output_type": "display_data"
    }
   ],
   "source": [
    "%%latex\n",
    "right = "
   ]
  }
 ],
 "metadata": {
  "kernelspec": {
   "display_name": "Python 3",
   "language": "python",
   "name": "python3"
  },
  "language_info": {
   "codemirror_mode": {
    "name": "ipython",
    "version": 3
   },
   "file_extension": ".py",
   "mimetype": "text/x-python",
   "name": "python",
   "nbconvert_exporter": "python",
   "pygments_lexer": "ipython3",
   "version": "3.6.4"
  }
 },
 "nbformat": 4,
 "nbformat_minor": 2
}
