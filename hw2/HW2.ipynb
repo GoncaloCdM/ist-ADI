{
 "cells": [
  {
   "cell_type": "code",
   "execution_count": 23,
   "metadata": {},
   "outputs": [
    {
     "data": {
      "text/latex": [
       "\\[ P_{up} =\\begin{bmatrix}\n",
       "0.8 & 0.1 & 0 & 0.1 & 0 & 0 \\\\\n",
       "0.1 & 0.7 & 0.1 & 0 & 0.1 & 0 \\\\\n",
       "0 & 0.1 & 0.8 & 0 & 0 & 0.1 \\\\\n",
       "0.6 & 0 & 0 & 0.3 & 0.1 & 0 \\\\\n",
       "0 & 0.6 & 0 & 0.1 & 0.2 & 0.1 \\\\\n",
       "0 & 0 & 0.6 & 0 & 0.1 & 0.3 \\\\\n",
       "\\end{bmatrix}\n",
       "\\]"
      ],
      "text/plain": [
       "<IPython.core.display.Latex object>"
      ]
     },
     "metadata": {},
     "output_type": "display_data"
    }
   ],
   "source": [
    "%%latex\n",
    "\\[ P_{up} =\\begin{bmatrix}\n",
    "0.8 & 0.1 & 0 & 0.1 & 0 & 0 \\\\\n",
    "0.1 & 0.7 & 0.1 & 0 & 0.1 & 0 \\\\\n",
    "0 & 0.1 & 0.8 & 0 & 0 & 0.1 \\\\\n",
    "0.6 & 0 & 0 & 0.3 & 0.1 & 0 \\\\\n",
    "0 & 0.6 & 0 & 0.1 & 0.2 & 0.1 \\\\\n",
    "0 & 0 & 0.6 & 0 & 0.1 & 0.3 \\\\\n",
    "\\end{bmatrix}\n",
    "\\]\n"
   ]
  },
  {
   "cell_type": "code",
   "execution_count": 24,
   "metadata": {},
   "outputs": [
    {
     "data": {
      "text/latex": [
       "\\[ P_{down} =\\begin{bmatrix}\n",
       "0.3 & 0.1 & 0 & 0.6 & 0 & 0 \\\\\n",
       "0.1 & 0.2 & 0.1 & 0 & 0.6 & 0 \\\\\n",
       "0 & 0.1 & 0.3 & 0 & 0 & 0.1 \\\\\n",
       "0.1 & 0 & 0 & 0.8 & 0.1 & 0 \\\\\n",
       "0 & 0.1 & 0 & 0.1 & 0.7 & 0.1 \\\\\n",
       "0 & 0 & 0.1 & 0 & 0.1 & 0.8 \\\\\n",
       "\\end{bmatrix}\n",
       "\\]"
      ],
      "text/plain": [
       "<IPython.core.display.Latex object>"
      ]
     },
     "metadata": {},
     "output_type": "display_data"
    }
   ],
   "source": [
    "%%latex\n",
    "\\[ P_{down} =\\begin{bmatrix}\n",
    "0.3 & 0.1 & 0 & 0.6 & 0 & 0 \\\\\n",
    "0.1 & 0.2 & 0.1 & 0 & 0.6 & 0 \\\\\n",
    "0 & 0.1 & 0.3 & 0 & 0 & 0.1 \\\\\n",
    "0.1 & 0 & 0 & 0.8 & 0.1 & 0 \\\\\n",
    "0 & 0.1 & 0 & 0.1 & 0.7 & 0.1 \\\\\n",
    "0 & 0 & 0.1 & 0 & 0.1 & 0.8 \\\\\n",
    "\\end{bmatrix}\n",
    "\\]"
   ]
  },
  {
   "cell_type": "code",
   "execution_count": 25,
   "metadata": {},
   "outputs": [
    {
     "data": {
      "text/latex": [
       "\\[ P_{left} = \\begin{bmatrix}\n",
       "0.8 & 0.1 & 0 & 0.1 & 0 & 0\\\\\n",
       "0.6 & 0.2 & 0.1 & 0 & 0.1 & 0\\\\\n",
       "0 & 0.6 & 0.3 & 0 & 0 & 0.1\\\\\n",
       "0.1 & 0 & 0 & 0.8 & 0.1 & 0\\\\\n",
       "0 & 0.1 & 0 & 0.6 & 0.2 & 0.1\\\\\n",
       "0 & 0 & 0.1 & 0 & 0.6 & 0.3\\\\\n",
       "\\end{bmatrix}\n",
       "\\]"
      ],
      "text/plain": [
       "<IPython.core.display.Latex object>"
      ]
     },
     "metadata": {},
     "output_type": "display_data"
    }
   ],
   "source": [
    "%%latex\n",
    "\\[ P_{left} = \\begin{bmatrix}\n",
    "0.8 & 0.1 & 0 & 0.1 & 0 & 0\\\\\n",
    "0.6 & 0.2 & 0.1 & 0 & 0.1 & 0\\\\\n",
    "0 & 0.6 & 0.3 & 0 & 0 & 0.1\\\\\n",
    "0.1 & 0 & 0 & 0.8 & 0.1 & 0\\\\\n",
    "0 & 0.1 & 0 & 0.6 & 0.2 & 0.1\\\\\n",
    "0 & 0 & 0.1 & 0 & 0.6 & 0.3\\\\\n",
    "\\end{bmatrix}\n",
    "\\]"
   ]
  },
  {
   "cell_type": "code",
   "execution_count": 26,
   "metadata": {},
   "outputs": [
    {
     "data": {
      "text/latex": [
       "\\[ P_{right} = \\begin{bmatrix}\n",
       "0.3 & 0.6 & 0 & 0.1 & 0 & 0 \\\\\n",
       "0.1 & 0.2 & 0.6 & 0 & 0.1 & 0 \\\\\n",
       "0 & 0.1 & 0.8 & 0 & 0 & 0.1\\\\\n",
       "0.1 & 0 & 0 & 0.8 & 0.1 & 0\\\\\n",
       "0 & 0.1 & 0 & 0.1 & 0.7 & 0.1\\\\\n",
       "0 & 0 & 0.1 & 0 & 0.1 & 0.8\\\\\n",
       "\\end{bmatrix} \\]"
      ],
      "text/plain": [
       "<IPython.core.display.Latex object>"
      ]
     },
     "metadata": {},
     "output_type": "display_data"
    }
   ],
   "source": [
    "%%latex\n",
    "\\[ P_{right} = \\begin{bmatrix}\n",
    "0.3 & 0.6 & 0 & 0.1 & 0 & 0 \\\\\n",
    "0.1 & 0.2 & 0.6 & 0 & 0.1 & 0 \\\\\n",
    "0 & 0.1 & 0.8 & 0 & 0 & 0.1\\\\\n",
    "0.1 & 0 & 0 & 0.8 & 0.1 & 0\\\\\n",
    "0 & 0.1 & 0 & 0.1 & 0.7 & 0.1\\\\\n",
    "0 & 0 & 0.1 & 0 & 0.1 & 0.8\\\\\n",
    "\\end{bmatrix} \\]"
   ]
  },
  {
   "cell_type": "code",
   "execution_count": 3,
   "metadata": {},
   "outputs": [
    {
     "data": {
      "text/latex": [
       "\\[ C = \\begin{bmatrix}\n",
       "0.05 & 0.05 & 0.05 & 0.05\\\\\n",
       "0.05 & 1 & 0.05 & 0.05\\\\\n",
       "0.05 & 0 & 0.05 & 0.05\\\\\n",
       "0.05 & 0.05 & 0.05 & 1\\\\\n",
       "0.05 & 1 & 0.05 & 0\\\\\n",
       "0.05 & 0 & 1 & 0\\\\\n",
       "\\end{bmatrix} \\]"
      ],
      "text/plain": [
       "<IPython.core.display.Latex object>"
      ]
     },
     "metadata": {},
     "output_type": "display_data"
    }
   ],
   "source": [
    "%%latex\n",
    "\\[ C = \\begin{bmatrix}\n",
    "0.05 & 0.05 & 0.05 & 0.05\\\\\n",
    "0.05 & 1 & 0.05 & 0.05\\\\\n",
    "0.05 & 0 & 0.05 & 0.05\\\\\n",
    "0.05 & 0.05 & 0.05 & 1\\\\\n",
    "0.05 & 1 & 0.05 & 0\\\\\n",
    "0.05 & 0 & 1 & 0\\\\\n",
    "\\end{bmatrix} \\]"
   ]
  },
  {
   "cell_type": "code",
   "execution_count": 2,
   "metadata": {},
   "outputs": [
    {
     "data": {
      "text/latex": [
       "\\[ C = \\begin{bmatrix}\n",
       "0.05 & 0.05 & 0.05 & 0.05\\\\\n",
       "0.05 & 0.05 & 0.05 & 0.05\\\\\n",
       "0.05 & 0.05 & 0.05 & 0.05\\\\\n",
       "0.05 & 0.05 & 0.05 & 0.05\\\\\n",
       "1 & 1 & 1 & 1\\\\\n",
       "0 & 0 & 0 & 0\\\\\n",
       "\\end{bmatrix} \\]"
      ],
      "text/plain": [
       "<IPython.core.display.Latex object>"
      ]
     },
     "metadata": {},
     "output_type": "display_data"
    }
   ],
   "source": [
    "%%latex\n",
    "\\[ C = \\begin{bmatrix}\n",
    "0.05 & 0.05 & 0.05 & 0.05\\\\\n",
    "0.05 & 0.05 & 0.05 & 0.05\\\\\n",
    "0.05 & 0.05 & 0.05 & 0.05\\\\\n",
    "0.05 & 0.05 & 0.05 & 0.05\\\\\n",
    "1 & 1 & 1 & 1\\\\\n",
    "0 & 0 & 0 & 0\\\\\n",
    "\\end{bmatrix} \\]"
   ]
  },
  {
   "cell_type": "code",
   "execution_count": 18,
   "metadata": {},
   "outputs": [
    {
     "data": {
      "text/plain": [
       "matrix([[0.80525055],\n",
       "        [1.02797112],\n",
       "        [0.77636737],\n",
       "        [0.92169726],\n",
       "        [2.08893003],\n",
       "        [0.83183847]])"
      ]
     },
     "execution_count": 18,
     "metadata": {},
     "output_type": "execute_result"
    }
   ],
   "source": [
    "import numpy as np\n",
    "Cpi = np.matrix('0.05; 0.05; 0.05; 0.05; 1; 0')\n",
    "Cpi_2 = np.matrix('0.05; 0.05; 0.05; 0.05; 0.05; 0.05')\n",
    "y = 0.9\n",
    "I = np.identity(6)\n",
    "Ppi = np.matrix('0.8 0.1 0 0.1 0 0; 0.1 0.7 0.1 0 0.1 0; 0 0.1 0.8 0 0 0.1; 0.6 0 0 0.3 0.1 0; 0 0.6 0 0.1 0.2 0.1; 0 0 0.6  0 0.1 0.3')\n",
    "J = np.linalg.inv(I - y*Ppi) * Cpi\n",
    "J"
   ]
  },
  {
   "cell_type": "code",
   "execution_count": 72,
   "metadata": {},
   "outputs": [
    {
     "data": {
      "text/latex": [
       "\\[\n",
       "J_{\\pi} = (I - \\gamma*P_{\\pi})^{-1}*C_{\\pi}\n",
       "\\]\\[\\]\n",
       "\\[\\]\n",
       "\\[ J_{\\pi} =\\begin{bmatrix}\n",
       "0.80525055 \\\\\n",
       "1.02797112 \\\\\n",
       "0.77636737 \\\\\n",
       "0.92169726 \\\\\n",
       "2.08893003 \\\\\n",
       "0.83183847 \\\\\n",
       "\\end{bmatrix}\n",
       "\\]\n",
       "\\[\\]\n",
       "\\[ C_{\\pi} =\\begin{bmatrix}\n",
       "0.05 \\\\\n",
       "0.05 \\\\\n",
       "0.05 \\\\\n",
       "0.05 \\\\\n",
       "0.05 \\\\\n",
       "0.05 \\\\\n",
       "\\end{bmatrix}\n",
       "\\]\n",
       "\\[\\]\n",
       "\\[ P_{\\pi} =\\begin{bmatrix}\n",
       "0.8 & 0.1 & 0 & 0.1 & 0 & 0 \\\\\n",
       "0.1 & 0.7 & 0.1 & 0 & 0.1 & 0 \\\\\n",
       "0 & 0.1 & 0.8 & 0 & 0 & 0.1 \\\\\n",
       "0.6 & 0 & 0 & 0.3 & 0.1 & 0 \\\\\n",
       "0 & 0.6 & 0 & 0.1 & 0.2 & 0.1 \\\\\n",
       "0 & 0 & 0.6 & 0 & 0.1 & 0.3 \\\\\n",
       "\\end{bmatrix}\n",
       "\\]\n",
       "\\[\\]\n",
       "\\[\n",
       "I = \\begin{bmatrix}\n",
       "1 & 0 & 0 & 0 & 0 & 0 \\\\\n",
       "0 & 1 & 0 & 0 & 0 & 0 \\\\\n",
       "0 & 0 & 1 & 0 & 0 & 0 \\\\\n",
       "0 & 0 & 0 & 1 & 0 & 0 \\\\\n",
       "0 & 0 & 0 & 0 & 1 & 0 \\\\\n",
       "0 & 0 & 0 & 0 & 0 & 1 \\\\\n",
       "\\end{bmatrix}\n",
       "\\]\n",
       "\\[\\]\n",
       "\\[ J_{\\pi} = \\Biggr( \\begin{bmatrix}\n",
       "1 & 0 & 0 & 0 & 0 & 0 \\\\\n",
       "0 & 1 & 0 & 0 & 0 & 0 \\\\\n",
       "0 & 0 & 1 & 0 & 0 & 0 \\\\\n",
       "0 & 0 & 0 & 1 & 0 & 0 \\\\\n",
       "0 & 0 & 0 & 0 & 1 & 0 \\\\\n",
       "0 & 0 & 0 & 0 & 0 & 1 \\\\\n",
       "\\end{bmatrix}\n",
       "- 0.9*\\begin{bmatrix}\n",
       "0.8 & 0.1 & 0 & 0.1 & 0 & 0 \\\\\n",
       "0.1 & 0.7 & 0.1 & 0 & 0.1 & 0 \\\\\n",
       "0 & 0.1 & 0.8 & 0 & 0 & 0.1 \\\\\n",
       "0.6 & 0 & 0 & 0.3 & 0.1 & 0 \\\\\n",
       "0 & 0.6 & 0 & 0.1 & 0.2 & 0.1 \\\\\n",
       "0 & 0 & 0.6 & 0 & 0.1 & 0.3 \\\\\n",
       "\\end{bmatrix}\\Biggr)^{-1} * \n",
       "\\begin{bmatrix}\n",
       "0.05 \\\\\n",
       "0.05 \\\\\n",
       "0.05 \\\\\n",
       "0.05 \\\\\n",
       "0.05 \\\\\n",
       "0.05 \\\\\n",
       "\\end{bmatrix}\n",
       "\\]\n",
       "\\[\\]\\[\n",
       "\\gamma = 0.9\n",
       "\\]"
      ],
      "text/plain": [
       "<IPython.core.display.Latex object>"
      ]
     },
     "metadata": {},
     "output_type": "display_data"
    }
   ],
   "source": [
    "%%latex\n",
    "\\[\n",
    "J_{\\pi} = (I - \\gamma*P_{\\pi})^{-1}*C_{\\pi}\n",
    "\\]\\[\\]\n",
    "\\[\\]\n",
    "\\[ J_{\\pi} =\\begin{bmatrix}\n",
    "0.80525055 \\\\\n",
    "1.02797112 \\\\\n",
    "0.77636737 \\\\\n",
    "0.92169726 \\\\\n",
    "2.08893003 \\\\\n",
    "0.83183847 \\\\\n",
    "\\end{bmatrix}\n",
    "\\]\n",
    "\\[\\]\n",
    "\\[ C_{\\pi} =\\begin{bmatrix}\n",
    "0.05 \\\\\n",
    "0.05 \\\\\n",
    "0.05 \\\\\n",
    "0.05 \\\\\n",
    "0.05 \\\\\n",
    "0.05 \\\\\n",
    "\\end{bmatrix}\n",
    "\\]\n",
    "\\[\\]\n",
    "\\[ P_{\\pi} =\\begin{bmatrix}\n",
    "0.8 & 0.1 & 0 & 0.1 & 0 & 0 \\\\\n",
    "0.1 & 0.7 & 0.1 & 0 & 0.1 & 0 \\\\\n",
    "0 & 0.1 & 0.8 & 0 & 0 & 0.1 \\\\\n",
    "0.6 & 0 & 0 & 0.3 & 0.1 & 0 \\\\\n",
    "0 & 0.6 & 0 & 0.1 & 0.2 & 0.1 \\\\\n",
    "0 & 0 & 0.6 & 0 & 0.1 & 0.3 \\\\\n",
    "\\end{bmatrix}\n",
    "\\]\n",
    "\\[\\]\n",
    "\\[\n",
    "I = \\begin{bmatrix}\n",
    "1 & 0 & 0 & 0 & 0 & 0 \\\\\n",
    "0 & 1 & 0 & 0 & 0 & 0 \\\\\n",
    "0 & 0 & 1 & 0 & 0 & 0 \\\\\n",
    "0 & 0 & 0 & 1 & 0 & 0 \\\\\n",
    "0 & 0 & 0 & 0 & 1 & 0 \\\\\n",
    "0 & 0 & 0 & 0 & 0 & 1 \\\\\n",
    "\\end{bmatrix}\n",
    "\\]\n",
    "\\[\n",
    "\\gamma = 0.9\n",
    "\\]"
   ]
  },
  {
   "cell_type": "code",
   "execution_count": 113,
   "metadata": {
    "scrolled": true
   },
   "outputs": [
    {
     "data": {
      "text/latex": [
       "\\[\\]\n",
       "\\[\n",
       "J_{\\pi} = \n",
       "\\begin{pmatrix}\n",
       "\\hspace{0.25cm}    \n",
       "\\begin{bmatrix}\n",
       "1 & 0 & 0 & 0 & 0 & 0 \\\\\n",
       "0 & 1 & 0 & 0 & 0 & 0 \\\\\n",
       "0 & 0 & 1 & 0 & 0 & 0 \\\\\n",
       "0 & 0 & 0 & 1 & 0 & 0 \\\\\n",
       "0 & 0 & 0 & 0 & 1 & 0 \\\\\n",
       "0 & 0 & 0 & 0 & 0 & 1 \\\\\n",
       "\\end{bmatrix} \n",
       "- 0.9*\\begin{bmatrix}\n",
       "0.8 & 0.1 & 0 & 0.1 & 0 & 0 \\\\\n",
       "0.1 & 0.7 & 0.1 & 0 & 0.1 & 0 \\\\\n",
       "0 & 0.1 & 0.8 & 0 & 0 & 0.1 \\\\\n",
       "0.6 & 0 & 0 & 0.3 & 0.1 & 0 \\\\\n",
       "0 & 0.6 & 0 & 0.1 & 0.2 & 0.1 \\\\\n",
       "0 & 0 & 0.6 & 0 & 0.1 & 0.3 \\\\\n",
       "\\end{bmatrix} \\hspace{0.25cm}\n",
       "\\end{pmatrix}^{-1}     \n",
       "    * \\hspace{0.5cm}\n",
       "\\begin{bmatrix}\n",
       "0.05 \\\\\n",
       "0.05 \\\\\n",
       "0.05 \\\\\n",
       "0.05 \\\\\n",
       "0.05 \\\\\n",
       "0.05 \\\\\n",
       "\\end{bmatrix} \n",
       "\\]\n",
       "\\[\\]"
      ],
      "text/plain": [
       "<IPython.core.display.Latex object>"
      ]
     },
     "metadata": {},
     "output_type": "display_data"
    }
   ],
   "source": [
    "%%latex\n",
    "\\[\\]\n",
    "\\[\n",
    "J_{\\pi} = \n",
    "\\begin{pmatrix}\n",
    "\\hspace{0.25cm}    \n",
    "\\begin{bmatrix}\n",
    "1 & 0 & 0 & 0 & 0 & 0 \\\\\n",
    "0 & 1 & 0 & 0 & 0 & 0 \\\\\n",
    "0 & 0 & 1 & 0 & 0 & 0 \\\\\n",
    "0 & 0 & 0 & 1 & 0 & 0 \\\\\n",
    "0 & 0 & 0 & 0 & 1 & 0 \\\\\n",
    "0 & 0 & 0 & 0 & 0 & 1 \\\\\n",
    "\\end{bmatrix} \n",
    "- 0.9*\\begin{bmatrix}\n",
    "0.8 & 0.1 & 0 & 0.1 & 0 & 0 \\\\\n",
    "0.1 & 0.7 & 0.1 & 0 & 0.1 & 0 \\\\\n",
    "0 & 0.1 & 0.8 & 0 & 0 & 0.1 \\\\\n",
    "0.6 & 0 & 0 & 0.3 & 0.1 & 0 \\\\\n",
    "0 & 0.6 & 0 & 0.1 & 0.2 & 0.1 \\\\\n",
    "0 & 0 & 0.6 & 0 & 0.1 & 0.3 \\\\\n",
    "\\end{bmatrix} \\hspace{0.25cm}\n",
    "\\end{pmatrix}^{-1}     \n",
    "    * \\hspace{0.5cm}\n",
    "\\begin{bmatrix}\n",
    "0.05 \\\\\n",
    "0.05 \\\\\n",
    "0.05 \\\\\n",
    "0.05 \\\\\n",
    "0.05 \\\\\n",
    "0.05 \\\\\n",
    "\\end{bmatrix} \n",
    "\\]\n",
    "\\[\\]"
   ]
  },
  {
   "cell_type": "markdown",
   "metadata": {},
   "source": []
  }
 ],
 "metadata": {
  "kernelspec": {
   "display_name": "Python 3",
   "language": "python",
   "name": "python3"
  },
  "language_info": {
   "codemirror_mode": {
    "name": "ipython",
    "version": 3
   },
   "file_extension": ".py",
   "mimetype": "text/x-python",
   "name": "python",
   "nbconvert_exporter": "python",
   "pygments_lexer": "ipython3",
   "version": "3.6.4"
  }
 },
 "nbformat": 4,
 "nbformat_minor": 2
}
