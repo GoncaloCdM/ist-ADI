{
 "cells": [
  {
   "cell_type": "markdown",
   "metadata": {},
   "source": [
    "# Learning and Decision Making"
   ]
  },
  {
   "cell_type": "markdown",
   "metadata": {},
   "source": [
    "## Laboratory 3: Markov decision problems\n",
    "\n",
    "In the end of the lab, you should submit all code/answers written in the tasks marked as \"Activity n. XXX\", together with the corresponding outputs and any replies to specific questions posed to the e-mail <adi.tecnico@gmail.com>. Make sure that the subject is of the form [&lt;group n.&gt;] LAB &lt;lab n.&gt;.\n",
    "\n",
    "### 1. Modeling\n",
    "\n",
    "Consider once again the knight domain described in the Homework and which you described as a Markov decision process.\n",
    "\n",
    "<img src=\"knight.png\" width=\"200px\">\n",
    "\n",
    "Recall that:\n",
    "\n",
    "* At each step, the knight may move in any of the four directions---up, down, left and right. \n",
    "\n",
    "* The movement succeeds with a 0.6 probability and fails with a 0.4 probability. When the movement fails, the knight may stay in the same cell or move to one of the immediately adjacent cells (if there is one) with equal probability.\n",
    "\n",
    "* The goal of the knight is to save (reach) the princess and avoid the dragon.\n",
    "\n",
    "**Throughout the lab, use $\\gamma=0.99$.**"
   ]
  },
  {
   "cell_type": "markdown",
   "metadata": {},
   "source": [
    "---\n",
    "\n",
    "#### Activity 1.        \n",
    "\n",
    "Implement your Markov decision process in Python. In particular,\n",
    "\n",
    "* Create a list with all the states;\n",
    "* Create a list with all the actions;\n",
    "* For each action, define a `numpy` array with the corresponding transition probabilities;\n",
    "* Define a `numpy`array with the costs. Make sure that:\n",
    "    * The costs lie in the interval [0, 1]\n",
    "    * The cost for standing in the princess's cell is minimal\n",
    "    * The cost for standing in the dragon's cell is maximal\n",
    "    * The costs for the intermediate cells are around 1/5 of those of standing in the dragon's cell\n",
    "\n",
    "The order for the states and actions used in the transition probability and cost matrices should match that in the lists of states and actions. \n",
    "\n",
    "**Note**: Don't forget to import `numpy`.\n",
    "\n",
    "---"
   ]
  },
  {
   "cell_type": "code",
   "execution_count": 43,
   "metadata": {
    "raw_mimetype": "text/x-python"
   },
   "outputs": [
    {
     "name": "stdout",
     "output_type": "stream",
     "text": [
      "States: [0, 1, 2, 3, 4, 5]\n",
      "Actions: [0, 1, 2, 3]\n",
      "Gamma: 0.99\n",
      "\n",
      "Transition Probability Matrix for each Action:\n",
      "up:\n",
      "[[0.8 0.1 0.  0.1 0.  0. ]\n",
      " [0.1 0.7 0.1 0.  0.1 0. ]\n",
      " [0.  0.1 0.8 0.  0.  0.1]\n",
      " [0.6 0.  0.  0.3 0.1 0. ]\n",
      " [0.  0.6 0.  0.1 0.2 0.1]\n",
      " [0.  0.  0.6 0.  0.1 0.3]]\n",
      "\n",
      "down:\n",
      "[[0.3 0.1 0.  0.6 0.  0. ]\n",
      " [0.1 0.2 0.1 0.  0.6 0. ]\n",
      " [0.  0.1 0.3 0.  0.  0.6]\n",
      " [0.1 0.  0.  0.8 0.1 0. ]\n",
      " [0.  0.1 0.  0.1 0.7 0.1]\n",
      " [0.  0.  0.1 0.  0.1 0.8]]\n",
      "\n",
      "left:\n",
      "[[0.8 0.1 0.  0.1 0.  0. ]\n",
      " [0.6 0.2 0.1 0.  0.1 0. ]\n",
      " [0.  0.6 0.3 0.  0.  0.1]\n",
      " [0.1 0.  0.  0.8 0.1 0. ]\n",
      " [0.  0.1 0.  0.6 0.2 0.1]\n",
      " [0.  0.  0.1 0.  0.6 0.3]]\n",
      "\n",
      "right:\n",
      "[[0.3 0.6 0.  0.1 0.  0. ]\n",
      " [0.1 0.2 0.6 0.  0.1 0. ]\n",
      " [0.  0.1 0.8 0.  0.  0.1]\n",
      " [0.1 0.  0.  0.3 0.6 0. ]\n",
      " [0.  0.1 0.  0.1 0.2 0.6]\n",
      " [0.  0.  0.1 0.  0.1 0.8]]\n",
      "\n",
      "Cost function:\n",
      "[[0.2 0.2 0.2 0.2]\n",
      " [0.2 0.2 0.2 0.2]\n",
      " [0.2 0.2 0.2 0.2]\n",
      " [0.2 0.2 0.2 0.2]\n",
      " [1.  1.  1.  1. ]\n",
      " [0.  0.  0.  0. ]]\n"
     ]
    }
   ],
   "source": [
    "# Insert your code here\n",
    "import numpy as np\n",
    "\n",
    "# States\n",
    "# index -> state - description\n",
    "# 0 -> 1 - Top-Left empty cell \n",
    "# 1 -> 2 - Top-Middle empty cell\n",
    "# 2 -> 3 - Top-Right empty cell\n",
    "# 3 -> 4 - Bottom-Left cell (knight start in picture)\n",
    "# 4 -> 5 - Bottom-Middle cell with Dragon\n",
    "# 5 -> 6 - Bottom-Right cell with Princess\n",
    "states = list(range(6))\n",
    "print(\"States: %s\" % states)\n",
    "\n",
    "# Actions = [\"up\",\"down\", \"left\", \"right\"]\n",
    "# index -> action\n",
    "# 0 -> \"up\"\n",
    "# 1 -> \"down\"\n",
    "# 2 -> \"left\"\n",
    "# 3 -> \"right\"\n",
    "actions = list(range(4))\n",
    "print(\"Actions: %s\" % actions)\n",
    "\n",
    "gamma=0.99\n",
    "print(\"Gamma: %.2f\" % gamma)\n",
    "\n",
    "# Probability Matrix, for each action\n",
    "P=[[],[],[],[]]\n",
    "P[0] = np.array([[0.8,0.1,0,0.1,0,0], [0.1,0.7,0.1,0,0.1,0], [0,0.1,0.8,0,0,0.1], [0.6,0,0,0.3,0.1,0], [0,0.6,0,0.1,0.2,0.1], [0,0,0.6,0,0.1,0.3]])\n",
    "P[1] = np.array([[0.3,0.1,0,0.6,0,0], [0.1,0.2,0.1,0,0.6,0], [0,0.1,0.3,0,0,0.6], [0.1,0,0,0.8,0.1,0], [0,0.1,0,0.1,0.7,0.1], [0,0,0.1,0,0.1,0.8]])\n",
    "P[2] = np.array([[0.8,0.1,0,0.1,0,0], [0.6,0.2,0.1,0,0.1,0], [0,0.6,0.3,0,0,0.1], [0.1,0,0,0.8,0.1,0], [0,0.1,0,0.6,0.2,0.1], [0,0,0.1,0,0.6,0.3]])\n",
    "P[3] = np.array([[0.3,0.6,0,0.1,0,0], [0.1,0.2,0.6,0,0.1,0], [0,0.1,0.8,0,0,0.1], [0.1,0,0,0.3,0.6,0], [0,0.1,0,0.1,0.2,0.6], [0,0,0.1,0,0.1,0.8]])\n",
    "np.set_printoptions(precision=2)\n",
    "print(\"\\nTransition Probability Matrix for each Action:\")\n",
    "for action, p_matrix in enumerate(P):\n",
    "    actions_map =[\"up\",\"down\", \"left\", \"right\"] # actions mapper for pretty print\n",
    "    print(\"%s:\\n%s\\n\" % (actions_map[action],p_matrix))\n",
    "\n",
    "C = np.array([[0.2,0.2,0.2,0.2], \n",
    "              [0.2,0.2,0.2,0.2], \n",
    "              [0.2,0.2,0.2,0.2], \n",
    "              [0.2,0.2,0.2,0.2], \n",
    "              [1,1,1,1], \n",
    "              [0,0,0,0]])\n",
    "print(\"Cost function:\\n%s\" % C)\n"
   ]
  },
  {
   "cell_type": "markdown",
   "metadata": {},
   "source": [
    "### 2. Prediction\n",
    "\n",
    "You are now going to evaluate a given policy, computing the corresponding cost-to-go."
   ]
  },
  {
   "cell_type": "markdown",
   "metadata": {
    "raw_mimetype": "text/latex"
   },
   "source": [
    "---\n",
    "\n",
    "#### Activity 2.\n",
    "\n",
    "Describe the policy that, in each state $x$, always moves the knight to the cell closest to the princess (irrespectively of the dragon). If multiple such cells exist, the knight should select randomly between the two.\n",
    "\n",
    "For example, suppose that the knight is in cell 1. The knight should then select randomly between the actions _D_ and _R_. Conversely, suppose that the knight is in cell 4. The knight should then select actions _R_ with probability 1.\n",
    "\n",
    "**Note:** The policy should be described as a vector with as many rows as there are states and as many columns as there are actions, where the entry _xa_ has the probability of selecting action _a_ in state _x_.\n",
    "\n",
    "---"
   ]
  },
  {
   "cell_type": "code",
   "execution_count": 44,
   "metadata": {},
   "outputs": [
    {
     "name": "stdout",
     "output_type": "stream",
     "text": [
      "Policy:\n",
      "[[0.  0.5 0.  0.5]\n",
      " [0.  0.5 0.  0.5]\n",
      " [0.  1.  0.  0. ]\n",
      " [0.  0.  0.  1. ]\n",
      " [0.  0.  0.  1. ]\n",
      " [0.  0.5 0.  0.5]]\n"
     ]
    }
   ],
   "source": [
    "# Policy matrix\n",
    "# Describes the probability of selecting action a in state x\n",
    "Pi = np.array([[0,0.5,0,0.5],\n",
    "              [0,0.5,0,0.5],\n",
    "              [0,1,0,0],\n",
    "              [0,0,0,1],\n",
    "              [0,0,0,1],\n",
    "              [0,0.5,0,0.5]])\n",
    "print(\"Policy:\\n%s\" % Pi)"
   ]
  },
  {
   "cell_type": "markdown",
   "metadata": {},
   "source": [
    "---\n",
    "\n",
    "#### Activity 3.\n",
    "\n",
    "Compute the cost-to-go function $J^\\pi$ associated with the policy from Activity 2.\n",
    "\n",
    "---"
   ]
  },
  {
   "cell_type": "code",
   "execution_count": 45,
   "metadata": {},
   "outputs": [
    {
     "name": "stdout",
     "output_type": "stream",
     "text": [
      "Transition Probability Matrix for the Policy\n",
      "P_pi:\n",
      "[[0.3  0.35 0.   0.35 0.   0.  ]\n",
      " [0.1  0.2  0.35 0.   0.35 0.  ]\n",
      " [0.   0.1  0.3  0.   0.   0.6 ]\n",
      " [0.1  0.   0.   0.3  0.6  0.  ]\n",
      " [0.   0.1  0.   0.1  0.2  0.6 ]\n",
      " [0.   0.   0.1  0.   0.1  0.8 ]]\n",
      "\n",
      "Cost function for the Policy\n",
      "C_pi:\n",
      "[[0.2]\n",
      " [0.2]\n",
      " [0.2]\n",
      " [0.2]\n",
      " [1. ]\n",
      " [0. ]]\n",
      "\n",
      "Discounted cost-to-go function for the Policy\n",
      "J_pi:\n",
      "[[16.26]\n",
      " [15.96]\n",
      " [15.29]\n",
      " [16.45]\n",
      " [16.43]\n",
      " [15.09]]\n"
     ]
    }
   ],
   "source": [
    "# Transition Probability Matrix associated\n",
    "# with the Policy described in Activity 2\n",
    "P_pi = P[0]*Pi[:,0,None]\n",
    "for i in range(1, len(P)):\n",
    "    P_pi += P[i]*Pi[:,i,None]\n",
    "\n",
    "print(\"Transition Probability Matrix for the Policy\")\n",
    "print(\"P_pi:\\n%s\" % P_pi)\n",
    "\n",
    "# Cost function associated with this Policy\n",
    "C_pi = np.diag(Pi[:,0]).dot(C[:,0,None]) + np.diag(Pi[:,1]).dot(C[:,1,None]) + np.diag(Pi[:,2]).dot(C[:,2,None]) + np.diag(Pi[:,3]).dot(C[:,3,None])\n",
    "print(\"\\nCost function for the Policy\")\n",
    "print(\"C_pi:\\n%s\" % C_pi)\n",
    "\n",
    "# Cost-to-go function associated with this Policy\n",
    "I = np.identity(len(states))\n",
    "J = np.linalg.inv(I - gamma*P_pi).dot(C_pi)\n",
    "print(\"\\nDiscounted cost-to-go function for the Policy\")\n",
    "print(\"J_pi:\\n%s\" % J)"
   ]
  },
  {
   "cell_type": "markdown",
   "metadata": {},
   "source": [
    "### 3. Control\n",
    "\n",
    "In this section you are going to compare value and policy iteration, both in terms of time and number of iterations."
   ]
  },
  {
   "cell_type": "markdown",
   "metadata": {},
   "source": [
    "---\n",
    "\n",
    "#### Activity 4\n",
    "\n",
    "Show that the policy in Activity 3 is _not_ optimal: use value iteration to compute $J^*$ and show that $J^*\\neq J^\\pi$. Track the time and the number of iterations taken to compute $J^*$.\n",
    "\n",
    "**Note 1:** Stop the algorithm when the error between iterations is smaller than $10^{-8}$.\n",
    "\n",
    "**Note 2:** You may find useful the function ``time()`` from the module ``time``.\n",
    "\n",
    "---"
   ]
  },
  {
   "cell_type": "code",
   "execution_count": 46,
   "metadata": {
    "scrolled": false
   },
   "outputs": [
    {
     "name": "stdout",
     "output_type": "stream",
     "text": [
      "Time to compute J*: 0.139685 seconds\n",
      "Number of iterations: 1726\n",
      "J*:\n",
      "[[14.07]\n",
      " [13.94]\n",
      " [13.68]\n",
      " [14.25]\n",
      " [14.75]\n",
      " [13.53]]\n"
     ]
    }
   ],
   "source": [
    "# Import module time for tracking the time of the computation\n",
    "import time\n",
    "\n",
    "# Initialize value iteration variables and starting time\n",
    "J = np.zeros((6,1))\n",
    "err=1\n",
    "i=0\n",
    "Q=[[],[],[],[]]\n",
    "t0 = time.time()\n",
    "\n",
    "# Value iteration loop\n",
    "while err > 1e-8:\n",
    "    for j in range(4):\n",
    "        Q[j] = C[:,j,None] + gamma * P[j].dot(J)\n",
    "    Jnew = np.min((Q[0],Q[1],Q[2],Q[3]), axis=0)\n",
    "    err = np.linalg.norm(Jnew-J)\n",
    "    i += 1\n",
    "    J = Jnew\n",
    "    \n",
    "# Display time to compute (endtime-startime) and value iteration results\n",
    "t1 = time.time()-t0\n",
    "print(\"Time to compute J*: %.6f seconds\" % t1)\n",
    "print(\"Number of iterations: %d\" % i)\n",
    "print(\"J*:\\n%s\" % J)"
   ]
  },
  {
   "cell_type": "markdown",
   "metadata": {},
   "source": [
    "---\n",
    "\n",
    "#### Activity 5\n",
    "\n",
    "Compute once again the optimal policy now using policy iteration. Track the time and number of iterations taken and compare to those of Activity 4.\n",
    "\n",
    "**Note:** If you find that numerical errors affect your computations (especially when comparing two values/arrays) you may use the `numpy` function `isclose` with adequately set absolute and relative tolerance parameters (e.g., $10^{-8}$).\n",
    "\n",
    "---"
   ]
  },
  {
   "cell_type": "code",
   "execution_count": 47,
   "metadata": {
    "scrolled": false
   },
   "outputs": [
    {
     "name": "stdout",
     "output_type": "stream",
     "text": [
      "Time to compute J*: 0.001921 seconds\n",
      "Number of iterations: 2\n",
      "The optimal policy:\n",
      "[[0.  0.  0.  1. ]\n",
      " [0.  0.  0.  1. ]\n",
      " [0.  1.  0.  0. ]\n",
      " [1.  0.  0.  0. ]\n",
      " [0.  0.  0.  1. ]\n",
      " [0.  0.5 0.  0.5]]\n"
     ]
    }
   ],
   "source": [
    "# Initial policy is 0.25 in every cell of the matrix\n",
    "pi = np.ones((6,4))/4\n",
    "# Initialize policy iteration variables and starttime\n",
    "quit = False\n",
    "i=0\n",
    "Q=[[],[],[],[]]\n",
    "t0 = time.time()\n",
    "\n",
    "# Policy iteration loop\n",
    "while not quit:\n",
    "    # Cost associated with the current (looped) policy     \n",
    "    C_pi = np.diag(pi[:,0]).dot(C[:,0,None]) + np.diag(pi[:,1]).dot(C[:,1,None]) + np.diag(pi[:,2]).dot(C[:,2,None]) + np.diag(pi[:,3]).dot(C[:,3,None])\n",
    "    \n",
    "    # Probability Matrix associated with the current (looped) policy\n",
    "    P_pi = np.diag(pi[:,0]).dot(P[0]) + np.diag(pi[:,1]).dot(P[1]) + np.diag(pi[:,2]).dot(P[3]) + np.diag(pi[:,3]).dot(P[3])\n",
    "    \n",
    "    # Cost-to-go associated with the current (looped) policy\n",
    "    J = np.dot(np.linalg.inv(np.identity(6) - gamma* P_pi), C_pi)\n",
    "\n",
    "    # Get Q-functions for each action\n",
    "    for j in range(4):\n",
    "        Q[j] = C[:,j,None] + gamma * P[j].dot(J)\n",
    "    \n",
    "    # Calculate new policy\n",
    "    Pi_new = np.zeros((6,4))\n",
    "    for j in range(4):\n",
    "        Pi_new[:,j,None] = np.isclose(Q[j], np.min([Q[0],Q[1],Q[2],Q[3]], axis=0), atol=1e-8, rtol=1e-8).astype(int)\n",
    " \n",
    "    # Normalize calculated policy\n",
    "    Pi_new = Pi_new / np.sum(Pi_new, axis=1, keepdims = True)\n",
    "    \n",
    "    # Update policy iteration loop variables\n",
    "    quit = (pi == Pi_new).all()\n",
    "    pi = Pi_new   \n",
    "    i += 1\n",
    "    \n",
    "print(\"Time to compute J*: %.6f seconds\" % (time.time() - t0))\n",
    "print(\"Number of iterations: %d\" % i)\n",
    "print(\"The optimal policy:\\n%s\" % pi)"
   ]
  },
  {
   "cell_type": "markdown",
   "metadata": {},
   "source": [
    "### 4. Simulation\n",
    "\n",
    "Finally, in this section you will check whether the theoretical computations of the cost-to-go actually correspond to the cost incurred by an agent following a policy."
   ]
  },
  {
   "cell_type": "markdown",
   "metadata": {},
   "source": [
    "---\n",
    "\n",
    "#### Activity 6\n",
    "\n",
    "Starting both in cell 1 and cell 5 in the figure, \n",
    "\n",
    "* Generate **100** trajectories of 10,000 steps each, following the optimal policy for the MDP. \n",
    "* For each trajectory, compute the accumulated (discounted) cost. \n",
    "* Compute the average cost over the 100 trajectories.\n",
    "* Compare the resulting value with that computed in Activity 4 for the two states. \n",
    "\n",
    "** Note:** The simulation may take a bit of time, don't despair ☺️.\n",
    "\n",
    "---"
   ]
  },
  {
   "cell_type": "code",
   "execution_count": 48,
   "metadata": {
    "scrolled": true
   },
   "outputs": [
    {
     "name": "stdout",
     "output_type": "stream",
     "text": [
      "Starting in cell 1:\n",
      "Average cost: 14.16\n",
      "Computation time: 91.684 seconds\n",
      "\n",
      "Starting in cell 5:\n",
      "Average cost: 14.91\n",
      "Computation time: 89.895 seconds\n",
      "\n"
     ]
    }
   ],
   "source": [
    "# Helper method to run the whole simulation starting\n",
    "# in the input argument \"start_state\", usually takes 170 seconds\n",
    "def calculate_cost(start_state):\n",
    "    print(\"Starting in cell %d:\" % (start_state))\n",
    "    t0 = time.time()\n",
    "    cost = 0\n",
    "    for _ in range(100):\n",
    "        state = start_state - 1\n",
    "        for t in range(10000):\n",
    "            # Random action and next state \n",
    "            action = np.random.choice(actions, p=pi[state])\n",
    "            next_state = np.random.choice(states, p=P[action][state])\n",
    "            # Accumulate discounted cost of trajectory\n",
    "            discnt = gamma**t\n",
    "            cost += C[state, action]*discnt\n",
    "            state = next_state\n",
    "    # Average cost over 100 trajectories\n",
    "    print(\"Average cost: %.2f\" % (cost/100))\n",
    "    print(\"Computation time: %.3f seconds\\n\" % (time.time()-t0))\n",
    "\n",
    "# calculate cost for cell 1\n",
    "calculate_cost(1)\n",
    "# calculate cost for cell 5\n",
    "calculate_cost(5)"
   ]
  },
  {
   "cell_type": "markdown",
   "metadata": {},
   "source": [
    "Comment: We can observe that, although the values are a bit different (since the simulation only has 10000 steps, trajectory in activity 4 is \"infinite\"), starting in state 5 has a higher cost than starting in state 1, like we obtained in activity 4."
   ]
  }
 ],
 "metadata": {
  "celltoolbar": "Raw Cell Format",
  "kernelspec": {
   "display_name": "Python 3",
   "language": "python",
   "name": "python3"
  },
  "language_info": {
   "codemirror_mode": {
    "name": "ipython",
    "version": 3
   },
   "file_extension": ".py",
   "mimetype": "text/x-python",
   "name": "python",
   "nbconvert_exporter": "python",
   "pygments_lexer": "ipython3",
   "version": "3.6.4"
  }
 },
 "nbformat": 4,
 "nbformat_minor": 2
}
