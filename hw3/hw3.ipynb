{
 "cells": [
  {
   "cell_type": "code",
   "execution_count": 27,
   "metadata": {},
   "outputs": [
    {
     "data": {
      "text/latex": [
       "\\[\\]\n",
       "\\[\\]\n",
       "\\[ P_{A} =\\begin{bmatrix}\n",
       "0.5 & 0.5 \\\\\n",
       "0.5 & 0.5 \\\\\n",
       "\\end{bmatrix}\n",
       "\\]\n",
       "\\[\\]\n",
       "\\[\\]\n",
       "\\[ P_{B} =\\begin{bmatrix}\n",
       "0.5 & 0.5 \\\\\n",
       "0.5 & 0.5 \\\\\n",
       "\\end{bmatrix}\n",
       "\\]\n",
       "\\[\\]\n",
       "\\[\\]\n",
       "\\[ P_{S} =\\begin{bmatrix}\n",
       "1 & 0 \\\\\n",
       "0 & 1 \\\\\n",
       "\\end{bmatrix}\n",
       "\\]\n",
       "\\[\\]\n",
       "\\[\\]"
      ],
      "text/plain": [
       "<IPython.core.display.Latex object>"
      ]
     },
     "metadata": {},
     "output_type": "display_data"
    }
   ],
   "source": [
    "%%latex\n",
    "\\[\\]\n",
    "\\[\\]\n",
    "\\[ P_{A} =\\begin{bmatrix}\n",
    "0.5 & 0.5 \\\\\n",
    "0.5 & 0.5 \\\\\n",
    "\\end{bmatrix}\n",
    "\\]\n",
    "\\[\\]\n",
    "\\[\\]\n",
    "\\[ P_{B} =\\begin{bmatrix}\n",
    "0.5 & 0.5 \\\\\n",
    "0.5 & 0.5 \\\\\n",
    "\\end{bmatrix}\n",
    "\\]\n",
    "\\[\\]\n",
    "\\[\\]\n",
    "\\[ P_{S} =\\begin{bmatrix}\n",
    "1 & 0 \\\\\n",
    "0 & 1 \\\\\n",
    "\\end{bmatrix}\n",
    "\\]\n",
    "\\[\\]\n",
    "\\[\\]"
   ]
  },
  {
   "cell_type": "code",
   "execution_count": 55,
   "metadata": {},
   "outputs": [
    {
     "data": {
      "text/latex": [
       "\\[\\]\n",
       "\\[\\]\n",
       "\\[\n",
       "\\mathcal{X} = \\{A, B\\}\n",
       "\\]\n",
       "\\[\\]\n",
       "\\[\\]\n",
       "\\[\n",
       "\\mathcal{A} = \\{A, B, S\\}\n",
       "\\]\n",
       "\\[\\]\n",
       "\\[\\]\n",
       "\\[\n",
       "\\mathcal{Z} = \\{A, B, \\emptyset \\}\n",
       "\\]\n",
       "\\[\\]\n",
       "\\[\\]"
      ],
      "text/plain": [
       "<IPython.core.display.Latex object>"
      ]
     },
     "metadata": {},
     "output_type": "display_data"
    }
   ],
   "source": [
    "%%latex\n",
    "\\[\\]\n",
    "\\[\\]\n",
    "\\[\n",
    "\\mathcal{X} = \\{A, B\\}\n",
    "\\]\n",
    "\\[\\]\n",
    "\\[\\]\n",
    "\\[\n",
    "\\mathcal{A} = \\{A, B, S\\}\n",
    "\\]\n",
    "\\[\\]\n",
    "\\[\\]\n",
    "\\[\n",
    "\\mathcal{Z} = \\{A, B, \\emptyset \\}\n",
    "\\]\n",
    "\\[\\]\n",
    "\\[\\]"
   ]
  },
  {
   "cell_type": "code",
   "execution_count": 44,
   "metadata": {},
   "outputs": [
    {
     "data": {
      "text/latex": [
       "\\textchi = \\{A, B\\}\n",
       "\\[\\]\n",
       "\\[\\]\n",
       "\\[ O_{A} =\\begin{bmatrix}\n",
       "0 & 0 & 1  \\\\\n",
       "0 & 0 & 1  \\\\\n",
       "\\end{bmatrix}\n",
       "\\]\n",
       "\\[\\]\n",
       "\\[\\]\n",
       "\\[ O_{B} =\\begin{bmatrix}\n",
       "0 & 0 & 1  \\\\\n",
       "0 & 0 & 1  \\\\\n",
       "\\end{bmatrix}\n",
       "\\]\n",
       "\\[\\]\n",
       "\\[\\]\n",
       "\\[ O_{S} =\\begin{bmatrix}\n",
       "0.9 & 0.1 & 0  \\\\\n",
       "0.1 & 0.9 & 0  \\\\\n",
       "\\end{bmatrix}\n",
       "\\]\n",
       "\\[\\]\n",
       "\\[\\]"
      ],
      "text/plain": [
       "<IPython.core.display.Latex object>"
      ]
     },
     "metadata": {},
     "output_type": "display_data"
    }
   ],
   "source": [
    "%%latex\n",
    "\\[\\]\n",
    "\\[\\]\n",
    "\\[ O_{A} =\\begin{bmatrix}\n",
    "0 & 0 & 1  \\\\\n",
    "0 & 0 & 1  \\\\\n",
    "\\end{bmatrix}\n",
    "\\]\n",
    "\\[\\]\n",
    "\\[\\]\n",
    "\\[ O_{B} =\\begin{bmatrix}\n",
    "0 & 0 & 1  \\\\\n",
    "0 & 0 & 1  \\\\\n",
    "\\end{bmatrix}\n",
    "\\]\n",
    "\\[\\]\n",
    "\\[\\]\n",
    "\\[ O_{S} =\\begin{bmatrix}\n",
    "0.9 & 0.1 & 0  \\\\\n",
    "0.1 & 0.9 & 0  \\\\\n",
    "\\end{bmatrix}\n",
    "\\]\n",
    "\\[\\]\n",
    "\\[\\]"
   ]
  },
  {
   "cell_type": "code",
   "execution_count": 29,
   "metadata": {},
   "outputs": [
    {
     "data": {
      "text/latex": [
       "\\[\\]\n",
       "\\[\\]\n",
       "\\[ C = \\begin{bmatrix}\n",
       "0 & 1 & 0.5\\\\\n",
       "1 & 0 & 0.5\\\\\n",
       "\\end{bmatrix} \\]\n",
       "\\[\\]\n",
       "\\[\\]"
      ],
      "text/plain": [
       "<IPython.core.display.Latex object>"
      ]
     },
     "metadata": {},
     "output_type": "display_data"
    }
   ],
   "source": [
    "%%latex\n",
    "\\[\\]\n",
    "\\[\\]\n",
    "\\[ C = \\begin{bmatrix}\n",
    "0 & 1 & 0.5\\\\\n",
    "1 & 0 & 0.5\\\\\n",
    "\\end{bmatrix} \\]\n",
    "\\[\\]\n",
    "\\[\\]"
   ]
  },
  {
   "cell_type": "code",
   "execution_count": 1,
   "metadata": {},
   "outputs": [
    {
     "data": {
      "text/latex": [
       "\\[\\]\n",
       "\\[\\]\n",
       "\\[\n",
       "b_{new} = \\xi \\hspace{0.05cm} b_{old} \\hspace{0.05cm} P_{S} \\hspace{0.05cm} diag(O_{S})\n",
       "\\]\\[\\]\n",
       "\\[\n",
       "b_{new} = \\xi\n",
       "\\hspace{0.1cm}    \n",
       "\\begin{bmatrix}\n",
       "0.7 & 0.3 \\\\\n",
       "\\end{bmatrix} \n",
       "\\hspace{0.1cm}  \n",
       "\\begin{bmatrix}\n",
       "1 & 0\\\\\n",
       "0 & 1\\\\\n",
       "\\end{bmatrix} \n",
       "\\hspace{0.1cm}     \n",
       "\\begin{bmatrix}\n",
       "0.1 & 0\\\\\n",
       "0 & 0.9\\\\\n",
       "\\end{bmatrix} \n",
       "\\]\n",
       "\\[\\]\n",
       "\\[\n",
       "b_{new} = \n",
       "\\begin{bmatrix}\n",
       "0.21 & 0.79 \\\\\n",
       "\\end{bmatrix} \n",
       "\\]\n",
       "\\[\\]    \n",
       "\\[\\]"
      ],
      "text/plain": [
       "<IPython.core.display.Latex object>"
      ]
     },
     "metadata": {},
     "output_type": "display_data"
    }
   ],
   "source": [
    "%%latex\n",
    "\\[\\]\n",
    "\\[\\]\n",
    "\\[\n",
    "b_{new} = \\xi \\hspace{0.05cm} b_{old} \\hspace{0.05cm} P_{S} \\hspace{0.05cm} diag(O_{S})\n",
    "\\]\\[\\]\n",
    "\\[\n",
    "b_{new} = \\xi\n",
    "\\hspace{0.1cm}    \n",
    "\\begin{bmatrix}\n",
    "0.7 & 0.3 \\\\\n",
    "\\end{bmatrix} \n",
    "\\hspace{0.1cm}  \n",
    "\\begin{bmatrix}\n",
    "1 & 0\\\\\n",
    "0 & 1\\\\\n",
    "\\end{bmatrix} \n",
    "\\hspace{0.1cm}     \n",
    "\\begin{bmatrix}\n",
    "0.1 & 0\\\\\n",
    "0 & 0.9\\\\\n",
    "\\end{bmatrix} \n",
    "\\]\n",
    "\\[\\]\n",
    "\\[\n",
    "b_{new} = \n",
    "\\begin{bmatrix}\n",
    "0.21 & 0.79 \\\\\n",
    "\\end{bmatrix} \n",
    "\\]\n",
    "\\[\\]    \n",
    "\\[\\]\n"
   ]
  },
  {
   "cell_type": "markdown",
   "metadata": {},
   "source": []
  }
 ],
 "metadata": {
  "kernelspec": {
   "display_name": "Python 3",
   "language": "python",
   "name": "python3"
  },
  "language_info": {
   "codemirror_mode": {
    "name": "ipython",
    "version": 3
   },
   "file_extension": ".py",
   "mimetype": "text/x-python",
   "name": "python",
   "nbconvert_exporter": "python",
   "pygments_lexer": "ipython3",
   "version": "3.6.4"
  }
 },
 "nbformat": 4,
 "nbformat_minor": 2
}
