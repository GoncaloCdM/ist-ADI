{
 "cells": [
  {
   "cell_type": "markdown",
   "metadata": {},
   "source": [
    "# Learning and Decision Making"
   ]
  },
  {
   "cell_type": "markdown",
   "metadata": {},
   "source": [
    "## Laboratory 3: Markov decision problems\n",
    "\n",
    "In the end of the lab, you should submit all code/answers written in the tasks marked as \"Activity n. XXX\", together with the corresponding outputs and any replies to specific questions posed to the e-mail <adi.tecnico@gmail.com>. Make sure that the subject is of the form [&lt;group n.&gt;] LAB &lt;lab n.&gt;.\n",
    "\n",
    "### 1. Modeling\n",
    "\n",
    "Consider once again the knight domain described in the Homework and which you described as a Markov decision process.\n",
    "\n",
    "<img src=\"knight.png\" width=\"200px\">\n",
    "\n",
    "Recall that:\n",
    "\n",
    "* At each step, the knight may move in any of the four directions---up, down, left and right. \n",
    "\n",
    "* The movement succeeds with a 0.6 probability and fails with a 0.4 probability. When the movement fails, the knight may stay in the same cell or move to one of the immediately adjacent cells (if there is one) with equal probability.\n",
    "\n",
    "* The goal of the knight is to save (reach) the princess and avoid the dragon.\n",
    "\n",
    "**Throughout the lab, use $\\gamma=0.99$.**"
   ]
  },
  {
   "cell_type": "markdown",
   "metadata": {},
   "source": [
    "---\n",
    "\n",
    "#### Activity 1.        \n",
    "\n",
    "Implement your Markov decision process in Python. In particular,\n",
    "\n",
    "* Create a list with all the states;\n",
    "* Create a list with all the actions;\n",
    "* For each action, define a `numpy` array with the corresponding transition probabilities;\n",
    "* Define a `numpy`array with the costs. Make sure that:\n",
    "    * The costs lie in the interval [0, 1]\n",
    "    * The cost for standing in the princess's cell is minimal\n",
    "    * The cost for standing in the dragon's cell is maximal\n",
    "    * The costs for the intermediate cells are around 1/5 of those of standing in the dragon's cell\n",
    "\n",
    "The order for the states and actions used in the transition probability and cost matrices should match that in the lists of states and actions. \n",
    "\n",
    "**Note**: Don't forget to import `numpy`.\n",
    "\n",
    "---"
   ]
  },
  {
   "cell_type": "code",
   "execution_count": 2,
   "metadata": {
    "raw_mimetype": "text/x-python"
   },
   "outputs": [
    {
     "name": "stdout",
     "output_type": "stream",
     "text": [
      "[array([[0.8, 0.1, 0. , 0.1, 0. , 0. ],\n",
      "       [0.1, 0.7, 0.1, 0. , 0.1, 0. ],\n",
      "       [0. , 0.1, 0.8, 0. , 0. , 0.1],\n",
      "       [0.6, 0. , 0. , 0.3, 0.1, 0. ],\n",
      "       [0. , 0.6, 0. , 0.1, 0.2, 0.1],\n",
      "       [0. , 0. , 0.6, 0. , 0.1, 0.3]]), array([[0.3, 0.1, 0. , 0.6, 0. , 0. ],\n",
      "       [0.1, 0.2, 0.1, 0. , 0.6, 0. ],\n",
      "       [0. , 0.1, 0.3, 0. , 0. , 0.6],\n",
      "       [0.1, 0. , 0. , 0.8, 0.1, 0. ],\n",
      "       [0. , 0.1, 0. , 0.1, 0.7, 0.1],\n",
      "       [0. , 0. , 0.1, 0. , 0.1, 0.8]]), array([[0.8, 0.1, 0. , 0.1, 0. , 0. ],\n",
      "       [0.6, 0.2, 0.1, 0. , 0.1, 0. ],\n",
      "       [0. , 0.6, 0.3, 0. , 0. , 0.1],\n",
      "       [0.1, 0. , 0. , 0.8, 0.1, 0. ],\n",
      "       [0. , 0.1, 0. , 0.6, 0.2, 0.1],\n",
      "       [0. , 0. , 0.1, 0. , 0.6, 0.3]]), array([[0.3, 0.6, 0. , 0.1, 0. , 0. ],\n",
      "       [0.1, 0.2, 0.6, 0. , 0.1, 0. ],\n",
      "       [0. , 0.1, 0.8, 0. , 0. , 0.1],\n",
      "       [0.1, 0. , 0. , 0.3, 0.6, 0. ],\n",
      "       [0. , 0.1, 0. , 0.1, 0.2, 0.6],\n",
      "       [0. , 0. , 0.1, 0. , 0.1, 0.8]])]\n",
      "[[0.2 0.2 0.2 0.2]\n",
      " [0.2 0.2 0.2 0.2]\n",
      " [0.2 0.2 0.2 0.2]\n",
      " [0.2 0.2 0.2 0.2]\n",
      " [1.  1.  1.  1. ]\n",
      " [0.  0.  0.  0. ]]\n"
     ]
    }
   ],
   "source": [
    "# Insert your code here\n",
    "import numpy as np\n",
    "\n",
    "P=[[],[],[],[]]\n",
    "states = list(range(1,7))\n",
    "# actions = [\"up\",\"down\", \"left\", \"right\"]\n",
    "actions = list(range(0,4))\n",
    "gamma=0.99\n",
    "\n",
    "P[0] = np.array([[0.8,0.1,0,0.1,0,0], [0.1,0.7,0.1,0,0.1,0], [0,0.1,0.8,0 ,0 ,0.1], [0.6, 0, 0, 0.3, 0.1, 0], [0, 0.6, 0, 0.1, 0.2, 0.1], [0,0, 0.6 ,0, 0.1, 0.3]])\n",
    "P[1] = np.array([[0.3,0.1,0,0.6,0,0], [0.1,0.2,0.1,0,0.6,0], [0,0.1,0.3 ,0 ,0 ,0.6], [0.1, 0, 0, 0.8, 0.1, 0], [0, 0.1, 0, 0.1, 0.7, 0.1], [0, 0, 0.1, 0, 0.1, 0.8]])\n",
    "P[2] = np.array([[0.8,0.1,0,0.1,0,0], [0.6,0.2,0.1,0,0.1,0], [0,0.6,0.3 ,0 ,0 ,0.1], [0.1, 0,0, 0.8, 0.1, 0], [0, 0.1, 0, 0.6, 0.2, 0.1], [0, 0, 0.1, 0, 0.6, 0.3]])\n",
    "P[3] = np.array([[0.3,0.6,0,0.1,0,0], [0.1,0.2,.6,0,0.1,0], [0,0.1,0.8,0 ,0 ,0.1], [0.1, 0, 0, 0.3, 0.6, 0], [0, 0.1, 0, 0.1, 0.2, 0.6], [0, 0, 0.1, 0, 0.1, 0.8]])\n",
    "np.set_printoptions(precision=2)\n",
    "print(P)\n",
    "\n",
    "C = np.array([[0.2,0.2,0.2,0.2], \n",
    "              [0.2,0.2,0.2,0.2], \n",
    "              [0.2,0.2,0.2,0.2], \n",
    "              [0.2,0.2,0.2,0.2], \n",
    "              [1,1,1,1], \n",
    "              [0,0,0,0]])\n",
    "print(C)\n"
   ]
  },
  {
   "cell_type": "markdown",
   "metadata": {},
   "source": [
    "### 2. Prediction\n",
    "\n",
    "You are now going to evaluate a given policy, computing the corresponding cost-to-go."
   ]
  },
  {
   "cell_type": "markdown",
   "metadata": {
    "raw_mimetype": "text/latex"
   },
   "source": [
    "---\n",
    "\n",
    "#### Activity 2.\n",
    "\n",
    "Describe the policy that, in each state $x$, always moves the knight to the cell closest to the princess (irrespectively of the dragon). If multiple such cells exist, the knight should select randomly between the two.\n",
    "\n",
    "For example, suppose that the knight is in cell 1. The knight should then select randomly between the actions _D_ and _R_. Conversely, suppose that the knight is in cell 4. The knight should then select actions _R_ with probability 1.\n",
    "\n",
    "**Note:** The policy should be described as a vector with as many rows as there are states and as many columns as there are actions, where the entry _xa_ has the probability of selecting action _a_ in state _x_.\n",
    "\n",
    "---"
   ]
  },
  {
   "cell_type": "code",
   "execution_count": 3,
   "metadata": {},
   "outputs": [
    {
     "name": "stdout",
     "output_type": "stream",
     "text": [
      "[[0.  0.5 0.  0.5]\n",
      " [0.  0.5 0.  0.5]\n",
      " [0.  1.  0.  0. ]\n",
      " [0.  0.  0.  1. ]\n",
      " [0.  0.  0.  1. ]\n",
      " [0.  0.5 0.  0.5]]\n"
     ]
    }
   ],
   "source": [
    "# Insert your code here\n",
    "Pi = np.array([[0,0.5,0,0.5],\n",
    "              [0,0.5,0,0.5],\n",
    "              [0,1,0,0],\n",
    "              [0,0,0,1],\n",
    "              [0,0,0,1],\n",
    "              [0,0.5,0,0.5]])\n",
    "print(Pi)"
   ]
  },
  {
   "cell_type": "markdown",
   "metadata": {},
   "source": [
    "---\n",
    "\n",
    "#### Activity 3.\n",
    "\n",
    "Compute the cost-to-go function $J^\\pi$ associated with the policy from Activity 2.\n",
    "\n",
    "---"
   ]
  },
  {
   "cell_type": "code",
   "execution_count": 21,
   "metadata": {},
   "outputs": [
    {
     "name": "stdout",
     "output_type": "stream",
     "text": [
      "P_pi:\n",
      " [[0.3 0.6 0.  0.1 0.  0. ]\n",
      " [0.1 0.2 0.6 0.  0.1 0. ]\n",
      " [0.  0.1 0.3 0.  0.  0.6]\n",
      " [0.6 0.  0.  0.3 0.1 0. ]\n",
      " [0.  0.1 0.  0.1 0.2 0.6]\n",
      " [0.  0.  0.1 0.  0.1 0.8]]\n",
      "C_pi:\n",
      " [0.2 0.2 0.2 0.2 1.  0. ]\n",
      "J: [14.07 13.94 13.68 14.25 14.75 13.53]\n"
     ]
    }
   ],
   "source": [
    "# Insert your code here\n",
    "\n",
    "P_pi = P[0]*Pi[:,0,None]\n",
    "# print(Pi[:,0,None])\n",
    "for i in range(1, len(P)):\n",
    "    P_pi += P[i]*Pi[:,i,None]\n",
    "\n",
    "print(\"P_pi:\\n\",P_pi)\n",
    "\n",
    "C_pi = C * Pi\n",
    "C_pi = np.sum(C_pi, axis=1)\n",
    "print(\"C_pi:\\n\",C_pi)\n",
    "\n",
    "I = np.identity(len(states))\n",
    "J = np.linalg.inv(I - gamma*P_pi).dot(C_pi)\n",
    "print(\"J:\", J)"
   ]
  },
  {
   "cell_type": "markdown",
   "metadata": {},
   "source": [
    "### 3. Control\n",
    "\n",
    "In this section you are going to compare value and policy iteration, both in terms of time and number of iterations."
   ]
  },
  {
   "cell_type": "markdown",
   "metadata": {},
   "source": [
    "---\n",
    "\n",
    "#### Activity 4\n",
    "\n",
    "Show that the policy in Activity 3 is _not_ optimal: use value iteration to compute $J^*$ and show that $J^*\\neq J^\\pi$. Track the time and the number of iterations taken to compute $J^*$.\n",
    "\n",
    "**Note 1:** Stop the algorithm when the error between iterations is smaller than $10^{-8}$.\n",
    "\n",
    "**Note 2:** You may find useful the function ``time()`` from the module ``time``.\n",
    "\n",
    "---"
   ]
  },
  {
   "cell_type": "code",
   "execution_count": 16,
   "metadata": {
    "scrolled": false
   },
   "outputs": [
    {
     "name": "stdout",
     "output_type": "stream",
     "text": [
      "Time to compute J*:  0.1175680160522461\n",
      "Nº iterations:  1726\n",
      "J* - \n",
      " [[14.07]\n",
      " [13.94]\n",
      " [13.68]\n",
      " [14.25]\n",
      " [14.75]\n",
      " [13.53]]\n"
     ]
    }
   ],
   "source": [
    "# Insert your code here\n",
    "import time\n",
    "J = np.zeros((6,1))\n",
    "err=1\n",
    "i=0\n",
    "\n",
    "t0 = time.time()\n",
    "\n",
    "while err > 1e-8:\n",
    "    Qu = C[:,0,None] + gamma * P[0].dot(J)\n",
    "    Qd = C[:,1,None] + gamma * P[1].dot(J)\n",
    "    Ql = C[:,2,None] + gamma * P[2].dot(J)\n",
    "    Qr = C[:,3,None] + gamma * P[3].dot(J)\n",
    "    Jnew = np.min((Qu,Qd,Ql,Qr), axis=0)\n",
    "    err = np.linalg.norm(Jnew-J)\n",
    "    i += 1\n",
    "    J = Jnew\n",
    "    \n",
    "t1 = time.time()-t0\n",
    "print(\"Time to compute J*: \", t1)\n",
    "print(\"Nº iterations: \",i)\n",
    "print(\"J* - \\n\", J)"
   ]
  },
  {
   "cell_type": "markdown",
   "metadata": {},
   "source": [
    "---\n",
    "\n",
    "#### Activity 5\n",
    "\n",
    "Compute once again the optimal policy now using policy iteration. Track the time and number of iterations taken and compare to those of Activity 4.\n",
    "\n",
    "**Note:** If you find that numerical errors affect your computations (especially when comparing two values/arrays) you may use the `numpy` function `isclose` with adequately set absolute and relative tolerance parameters (e.g., $10^{-8}$).\n",
    "\n",
    "---"
   ]
  },
  {
   "cell_type": "code",
   "execution_count": 12,
   "metadata": {
    "scrolled": false
   },
   "outputs": [
    {
     "name": "stdout",
     "output_type": "stream",
     "text": [
      "The optimal policy: [[0.  0.  0.  1. ]\n",
      " [0.  0.  0.  1. ]\n",
      " [0.  1.  0.  0. ]\n",
      " [1.  0.  0.  0. ]\n",
      " [0.  0.  0.  1. ]\n",
      " [0.  0.5 0.  0.5]]\n",
      "Nº iterations: 1\n",
      "Time to compute J*: 0.003854036331176758\n"
     ]
    }
   ],
   "source": [
    "# Insert your code here\n",
    "pi = np.ones((6,4))/4 #initial policy\n",
    "quit = False\n",
    "i=0\n",
    "\n",
    "t0 = time.time()\n",
    "\n",
    "while not quit:\n",
    "    C_pi = np.diag(Pi[:,0]).dot(C[:,0,None]) + np.diag(Pi[:,1]).dot(C[:,1,None]) + np.diag(Pi[:,2]).dot(C[:,2,None]) + np.diag(Pi[:,3]).dot(C[:,3,None])\n",
    "    P_pi = np.diag(Pi[:,0]).dot(P[0]) + np.diag(Pi[:,1]).dot(P[1]) + np.diag(Pi[:,2]).dot(P[3]) + np.diag(Pi[:,3]).dot(P[3])\n",
    "    J = np.dot(np.linalg.inv(np.identity(6) - gamma* P_pi), C_pi)\n",
    "    Qu = C[:,0,None] + gamma * P[0].dot(J)\n",
    "    Qd = C[:,1,None] + gamma * P[1].dot(J)\n",
    "    Ql = C[:,2,None] + gamma * P[2].dot(J)\n",
    "    Qr = C[:,3,None] + gamma * P[3].dot(J)\n",
    "    Pi_new = np.zeros((6,4))\n",
    "    Pi_new[:,0,None] = np.isclose(Qu, np.min([Qu,Qd,Ql,Qr], axis=0), atol=1e-8, rtol=1e-8).astype(int)\n",
    "    Pi_new[:,1,None] = np.isclose(Qd, np.min([Qu,Qd,Ql,Qr], axis=0), atol=1e-8, rtol=1e-8).astype(int)\n",
    "    Pi_new[:,2,None] = np.isclose(Ql, np.min([Qu,Qd,Ql,Qr], axis=0), atol=1e-8, rtol=1e-8).astype(int)\n",
    "    Pi_new[:,3,None] = np.isclose(Qr, np.min([Qu,Qd,Ql,Qr], axis=0), atol=1e-8, rtol=1e-8).astype(int)\n",
    "    \n",
    "    Pi_new = Pi_new / np.sum(Pi_new, axis=1, keepdims = True)\n",
    "\n",
    "    quit = (Pi == Pi_new).all()\n",
    "    \n",
    "    Pi = Pi_new\n",
    "    \n",
    "    i += 1\n",
    "    \n",
    "print(\"The optimal policy:\",Pi)\n",
    "print(\"Nº iterations:\",i)\n",
    "print(\"Time to compute J*:\",time.time() - t0)\n"
   ]
  },
  {
   "cell_type": "markdown",
   "metadata": {},
   "source": [
    "### 4. Simulation\n",
    "\n",
    "Finally, in this section you will check whether the theoretical computations of the cost-to-go actually correspond to the cost incurred by an agent following a policy."
   ]
  },
  {
   "cell_type": "markdown",
   "metadata": {},
   "source": [
    "---\n",
    "\n",
    "#### Activity 6\n",
    "\n",
    "Starting both in cell 1 and cell 5 in the figure, \n",
    "\n",
    "* Generate **100** trajectories of 10,000 steps each, following the optimal policy for the MDP. \n",
    "* For each trajectory, compute the accumulated (discounted) cost. \n",
    "* Compute the average cost over the 100 trajectories.\n",
    "* Compare the resulting value with that computed in Activity 4 for the two states. \n",
    "\n",
    "** Note:** The simulation may take a bit of time, don't despair ☺️.\n",
    "\n",
    "---"
   ]
  },
  {
   "cell_type": "code",
   "execution_count": 17,
   "metadata": {},
   "outputs": [
    {
     "name": "stdout",
     "output_type": "stream",
     "text": [
      "starting in 1: \n",
      "13.721638575911804\n",
      "time: 93.40330696105957\n",
      "starting in 5: \n",
      "13.971174931556526\n",
      "time: 91.00794696807861\n"
     ]
    }
   ],
   "source": [
    "# Insert your code here\n",
    "\n",
    "def calculate_cost(ind):\n",
    "    print(\"starting in \"+str(ind)+\": \")\n",
    "    t0 = time.time()\n",
    "    cost = 0\n",
    "    state = ind\n",
    "\n",
    "    for _ in range(100):\n",
    "        for t in range(10000):\n",
    "            action = np.random.choice(actions, p=Pi[state-1])\n",
    "            position = np.random.choice(states, p=P[action][state-1])\n",
    "            cost += (gamma**t)*C[state-1,action]\n",
    "            state = position\n",
    "    cost = cost/100\n",
    "    print(cost)\n",
    "    print(\"time: \" + str(time.time()-t0))\n",
    "\n",
    "calculate_cost(1)\n",
    "calculate_cost(5)\n",
    "\n"
   ]
  },
  {
   "cell_type": "code",
   "execution_count": null,
   "metadata": {},
   "outputs": [],
   "source": []
  }
 ],
 "metadata": {
  "celltoolbar": "Raw Cell Format",
  "kernelspec": {
   "display_name": "Python 3",
   "language": "python",
   "name": "python3"
  },
  "language_info": {
   "codemirror_mode": {
    "name": "ipython",
    "version": 3
   },
   "file_extension": ".py",
   "mimetype": "text/x-python",
   "name": "python",
   "nbconvert_exporter": "python",
   "pygments_lexer": "ipython3",
   "version": "3.6.4"
  }
 },
 "nbformat": 4,
 "nbformat_minor": 1
}
