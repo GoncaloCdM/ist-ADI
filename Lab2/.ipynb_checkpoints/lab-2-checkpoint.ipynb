{
 "cells": [
  {
   "cell_type": "markdown",
   "metadata": {},
   "source": [
    "# Learning and Decision Making"
   ]
  },
  {
   "cell_type": "markdown",
   "metadata": {},
   "source": [
    "## Laboratory 2: Markov chains\n",
    "\n",
    "In the end of the lab, you should submit all code/answers written in the tasks marked as \"Activity n. XXX\", together with the corresponding outputs and any replies to specific questions posed to the e-mail <adi.tecnico@gmail.com>. Make sure that the subject is of the form [&lt;group n.&gt;] LAB &lt;lab n.&gt;.\n",
    "\n",
    "### 1. Modeling\n",
    "\n",
    "Consider once again the simplified Trivial game described in the Homework and for which you wrote a Markov chain model:\n",
    "\n",
    "<img src=\"trivial.png\" width=\"400px\">\n",
    "\n",
    "Recall that your chain should describe a single player, where: \n",
    "\n",
    "* The player rolls a single die in each play; \n",
    "* At each intersection, the player continues along any of the possible intersecting paths with equal probability. "
   ]
  },
  {
   "cell_type": "markdown",
   "metadata": {},
   "source": [
    "---\n",
    "\n",
    "#### Activity 1.        \n",
    "\n",
    "Implement your Markov chain model in Python. In particular,\n",
    "\n",
    "* Create a list with all the states;\n",
    "* Define a `numpy` array with the corresponding transition probabilities.\n",
    "\n",
    "The order for the states used in the transition probability matrix should match that in the list of states. \n",
    "\n",
    "**Note 1**: Don't forget to import `numpy`. If you need additional matrix operations (such as matrix powers or eigenvalues and eigenvectors), you may also import the library `numpy.linalg`.\n",
    "\n",
    "**Note 2**: Make sure to print the result in the end.\n",
    "\n",
    "---"
   ]
  },
  {
   "cell_type": "code",
   "execution_count": 3,
   "metadata": {},
   "outputs": [
    {
     "name": "stdout",
     "output_type": "stream",
     "text": [
      "List of all the states: \n",
      "[1, 2, 3, 4, 5, 6, 7, 8, 9, 10]\n",
      "Transition probability matrix\n",
      "[[0.18518519 0.12345679 0.10493827 0.04320988 0.10493827 0.12345679\n",
      "  0.12345679 0.04320988 0.04320988 0.10493827]\n",
      " [0.18518519 0.12345679 0.18518519 0.08333333 0.06481481 0.08333333\n",
      "  0.08333333 0.08333333 0.04320988 0.06481481]\n",
      " [0.10493827 0.12345679 0.18518519 0.12345679 0.10493827 0.04320988\n",
      "  0.04320988 0.12345679 0.04320988 0.10493827]\n",
      " [0.06481481 0.08333333 0.18518519 0.12345679 0.18518519 0.08333333\n",
      "  0.04320988 0.08333333 0.08333333 0.06481481]\n",
      " [0.10493827 0.04320988 0.10493827 0.12345679 0.18518519 0.12345679\n",
      "  0.04320988 0.04320988 0.12345679 0.10493827]\n",
      " [0.18518519 0.08333333 0.06481481 0.08333333 0.18518519 0.12345679\n",
      "  0.08333333 0.04320988 0.08333333 0.06481481]\n",
      " [0.18518519 0.08333333 0.06481481 0.04320988 0.06481481 0.08333333\n",
      "  0.12345679 0.08333333 0.08333333 0.18518519]\n",
      " [0.06481481 0.08333333 0.18518519 0.08333333 0.06481481 0.04320988\n",
      "  0.08333333 0.12345679 0.08333333 0.18518519]\n",
      " [0.06481481 0.04320988 0.06481481 0.08333333 0.18518519 0.08333333\n",
      "  0.08333333 0.08333333 0.12345679 0.18518519]\n",
      " [0.10493827 0.04320988 0.10493827 0.04320988 0.10493827 0.04320988\n",
      "  0.12345679 0.12345679 0.12345679 0.18518519]]\n"
     ]
    }
   ],
   "source": [
    "import numpy as np\n",
    "# All the code will be based on the model presented in the homework report\n",
    "# List of all the states\n",
    "\"\"\"\n",
    "States correspondence with Trivial Pursuit board\n",
    "1 - Pink with pie piece\n",
    "2 - Green in outer rim\n",
    "3 - Blue with pie piece\n",
    "4 - Pink in outer rim\n",
    "5 - Green with pie piece\n",
    "6 - Blue in outer rim\n",
    "7 - Blue in inner rim\n",
    "8 - Green in inner rim\n",
    "9 - Pink in inner rim\n",
    "10 - Center\n",
    "\"\"\"\n",
    "states = list(range(1,11))\n",
    "print(\"List of all the states: \")\n",
    "print(states)\n",
    "# Transition probability matrix for dice = 1\n",
    "md1 = np.array([\n",
    "\t[0,1/3,0,0,0,1/3,1/3,0,0,0],\n",
    "\t[1/2,0,1/2,0,0,0,0,0,0,0],\n",
    "\t[0,1/3,0,1/3,0,0,0,1/3,0,0],\n",
    "\t[0,0,1/2,0,1/2,0,0,0,0,0],\n",
    "\t[0,0,0,1/3,0,1/3,0,0,1/3,0],\n",
    "\t[1/2,0,0,0,1/2,0,0,0,0,0],\n",
    "\t[1/2,0,0,0,0,0,0,0,0,1/2],\n",
    "\t[0,0,1/2,0,0,0,0,0,0,1/2],\n",
    "\t[0,0,0,0,1/2,0,0,0,0,1/2],\n",
    "\t[0,0,0,0,0,0,1/3,1/3,1/3,0]\n",
    "])\n",
    "\n",
    "# Use matrix power to obtain remaining dice cases based on dice = 1\n",
    "md2 = np.linalg.matrix_power(md1,2)\n",
    "md3 = np.linalg.matrix_power(md1,3)\n",
    "md4 = np.linalg.matrix_power(md1,4)\n",
    "md5 = np.linalg.matrix_power(md1,5)\n",
    "md6 = np.linalg.matrix_power(md1,6)\n",
    "\n",
    "# Average all the matrixes to obtain the TPM for the whole model\n",
    "mdt = (md1+md2+md3+md4+md5+md6)/6\n",
    "print(\"Transition probability matrix\")\n",
    "print(mdt)"
   ]
  },
  {
   "cell_type": "markdown",
   "metadata": {},
   "source": [
    "---\n",
    "\n",
    "#### Activity 2.\n",
    "\n",
    "Compute the probability of the following trajectories:\n",
    "\n",
    "* \"Pink with pie piece\" - \"Green in outer rim\" - \"Blue with pie slice\" - \"Pink in outer rim\"\n",
    "* \"Pink with pie piece\" - \"Pink with pie piece\" - \"Blue in outer rim\"\n",
    "* \"Center\" - \"Pink with pie piece\" - \"Blue in outer rim\"\n",
    "\n",
    "**Note:** Make sure to print the result in the end.\n",
    "\n",
    "---"
   ]
  },
  {
   "cell_type": "code",
   "execution_count": 35,
   "metadata": {},
   "outputs": [
    {
     "name": "stdout",
     "output_type": "stream",
     "text": [
      "Probability of PP->GO->BP->PO: 0.0028\n",
      "Probability of PP->PP->BO: 0.0229\n",
      "Probability of C->PP->BO: 0.0130\n"
     ]
    }
   ],
   "source": [
    "def get_prob(initial_state, next_state):\n",
    "    return mdt[initial_state-1][next_state-1]\n",
    "\n",
    "# 1. \"Pink with pie piece\" - \"Green in outer rim\" - \"Blue with pie slice\" - \"Pink in outer rim\"\n",
    "print(\"Probability of PP->GO->BP->PO: %.4f\" % (get_prob(1,2)*get_prob(2,3)*get_prob(3,4)))\n",
    "\n",
    "# 2. \"Pink with pie piece\" - \"Pink with pie piece\" - \"Blue in outer rim\"\n",
    "print(\"Probability of PP->PP->BO: %.4f\" % (get_prob(1,1)*get_prob(1,6)))\n",
    "\n",
    "# 3. \"Center\" - \"Pink with pie piece\" - \"Blue in outer rim\"\n",
    "print(\"Probability of C->PP->BO: %.4f\" % (get_prob(10,1)*get_prob(1,6)))"
   ]
  },
  {
   "cell_type": "markdown",
   "metadata": {},
   "source": [
    "### 2. Stability"
   ]
  },
  {
   "cell_type": "markdown",
   "metadata": {},
   "source": [
    "---\n",
    "\n",
    "#### Activity 3.\n",
    "\n",
    "Justify whether the chain implemented in Activity #1 is:\n",
    "\n",
    "* Irreducible\n",
    "* Aperiodic\n",
    "* Ergodic\n",
    "\n",
    "---"
   ]
  },
  {
   "cell_type": "markdown",
   "metadata": {},
   "source": [
    "_Provide your answer here (double click to edit)._"
   ]
  },
  {
   "cell_type": "markdown",
   "metadata": {},
   "source": [
    "---\n",
    "\n",
    "#### Activity 4\n",
    "\n",
    "Compute the stationary distribution for the chain.\n",
    "\n",
    "**Note:** The stationary distribution is a *left* eigenvector of the transition probability matrix associated to the eigenvalue 1. As such, you may find useful the numpy function `numpy.linalg.eig`. Also, recall that the stationary distribution is *a distribution*.\n",
    "\n",
    "---"
   ]
  },
  {
   "cell_type": "code",
   "execution_count": 25,
   "metadata": {},
   "outputs": [
    {
     "name": "stdout",
     "output_type": "stream",
     "text": [
      "Stationary Distribution\n",
      "[0.125      0.08333333 0.125      0.08333333 0.125      0.08333333\n",
      " 0.08333333 0.08333333 0.08333333 0.125     ]\n"
     ]
    }
   ],
   "source": [
    "print(\"Stationary Distribution\")\n",
    "x = np.linalg.eig(np.transpose(mdt))[1][:,0]\n",
    "norm = x / np.sum(x)\n",
    "print(norm)"
   ]
  },
  {
   "cell_type": "markdown",
   "metadata": {},
   "source": [
    "### 3. Simulation\n",
    "\n",
    "You are now going to *simulate* the Markov chain that you defined in Question #1."
   ]
  },
  {
   "cell_type": "markdown",
   "metadata": {},
   "source": [
    "---\n",
    "\n",
    "#### Activity 5\n",
    "\n",
    "Generate a 10,000-step long trajectory of the chain defined in Activity #1. \n",
    "\n",
    "---"
   ]
  },
  {
   "cell_type": "code",
   "execution_count": 82,
   "metadata": {},
   "outputs": [
    {
     "name": "stdout",
     "output_type": "stream",
     "text": [
      "10K states sample\n",
      "[ 2  2  6 ... 10  8  2]\n"
     ]
    }
   ],
   "source": [
    "# Insert your code here\n",
    "# get a 10,000 states sample based on the stationary distribution\n",
    "sample = np.random.choice(states, size=10000, p=norm)\n",
    "print(\"10K states sample\")\n",
    "print(sample)"
   ]
  },
  {
   "cell_type": "markdown",
   "metadata": {},
   "source": [
    "---\n",
    "\n",
    "#### Activity 6\n",
    "\n",
    "Draw a histogram of the trajectory generated in Activity #5. Make sure that the histogram has one bin for each state. Compare the relative frequencies with the result of Activity #4.\n",
    "\n",
    "**Note**: Don't forget to load `matplotlib`.\n",
    "\n",
    "---"
   ]
  },
  {
   "cell_type": "code",
   "execution_count": 83,
   "metadata": {},
   "outputs": [
    {
     "data": {
      "image/png": "[encoded data removed]",
      "text/plain": [
       "<matplotlib.figure.Figure at 0x1a1fe96828>"
      ]
     },
     "metadata": {},
     "output_type": "display_data"
    }
   ],
   "source": [
    "# Insert your code here\n",
    "import matplotlib.pyplot as plt\n",
    "\n",
    "n, bins, patches = plt.hist(sample, bins=len(states), normed=1, alpha=0.85, ec='black')\n",
    "\n",
    "plt.xlabel('States')\n",
    "plt.ylabel('Prob')\n",
    "plt.title('Activity 6')\n",
    "\n",
    "plt.show()"
   ]
  },
  {
   "cell_type": "markdown",
   "metadata": {},
   "source": [
    "_Provide your answer here (double click to edit)._"
   ]
  }
 ],
 "metadata": {
  "kernelspec": {
   "display_name": "Python 3",
   "language": "python",
   "name": "python3"
  },
  "language_info": {
   "codemirror_mode": {
    "name": "ipython",
    "version": 3
   },
   "file_extension": ".py",
   "mimetype": "text/x-python",
   "name": "python",
   "nbconvert_exporter": "python",
   "pygments_lexer": "ipython3",
   "version": "3.6.4"
  }
 },
 "nbformat": 4,
 "nbformat_minor": 1
}
